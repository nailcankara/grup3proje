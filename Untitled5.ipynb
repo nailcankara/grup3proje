{
  "nbformat": 4,
  "nbformat_minor": 0,
  "metadata": {
    "colab": {
      "name": "Untitled5.ipynb",
      "provenance": []
    },
    "kernelspec": {
      "name": "python3",
      "display_name": "Python 3"
    }
  },
  "cells": [
    {
      "cell_type": "markdown",
      "metadata": {
        "id": "W7LKpMhulycW",
        "colab_type": "text"
      },
      "source": [
        "##########PART2 - Machine Learning###########"
      ]
    },
    {
      "cell_type": "code",
      "metadata": {
        "id": "Yt76kWLtlwGo",
        "colab_type": "code",
        "outputId": "2422d778-d45f-4595-9c47-5463f341fc57",
        "colab": {
          "base_uri": "https://localhost:8080/",
          "height": 195
        }
      },
      "source": [
        "df = pd.read_csv(\"carsclean.csv\")                     #verimizi import ettik\n",
        "df.drop(labels=['city','fuel'],axis=1,inplace=True)   #city  ve fuel değişkenleri işimize yaramadığı için yeniden sildik\n",
        "df.head()  #df'imizin güncel hali"
      ],
      "execution_count": 0,
      "outputs": [
        {
          "output_type": "execute_result",
          "data": {
            "text/html": [
              "<div>\n",
              "<style scoped>\n",
              "    .dataframe tbody tr th:only-of-type {\n",
              "        vertical-align: middle;\n",
              "    }\n",
              "\n",
              "    .dataframe tbody tr th {\n",
              "        vertical-align: top;\n",
              "    }\n",
              "\n",
              "    .dataframe thead th {\n",
              "        text-align: right;\n",
              "    }\n",
              "</style>\n",
              "<table border=\"1\" class=\"dataframe\">\n",
              "  <thead>\n",
              "    <tr style=\"text-align: right;\">\n",
              "      <th></th>\n",
              "      <th>car_maker</th>\n",
              "      <th>model</th>\n",
              "      <th>year</th>\n",
              "      <th>condition</th>\n",
              "      <th>kilometers</th>\n",
              "      <th>transmission</th>\n",
              "      <th>color</th>\n",
              "      <th>pay_method</th>\n",
              "      <th>price</th>\n",
              "    </tr>\n",
              "  </thead>\n",
              "  <tbody>\n",
              "    <tr>\n",
              "      <th>0</th>\n",
              "      <td>Toyota</td>\n",
              "      <td>Rush</td>\n",
              "      <td>2019</td>\n",
              "      <td>Used</td>\n",
              "      <td>14999.5</td>\n",
              "      <td>Automatic</td>\n",
              "      <td>White</td>\n",
              "      <td>Cash or Installments</td>\n",
              "      <td>58375.0</td>\n",
              "    </tr>\n",
              "    <tr>\n",
              "      <th>1</th>\n",
              "      <td>Kia</td>\n",
              "      <td>Carnival</td>\n",
              "      <td>2006</td>\n",
              "      <td>Used</td>\n",
              "      <td>0.0</td>\n",
              "      <td>Automatic</td>\n",
              "      <td>Grey</td>\n",
              "      <td>Cash Only</td>\n",
              "      <td>10000.0</td>\n",
              "    </tr>\n",
              "    <tr>\n",
              "      <th>2</th>\n",
              "      <td>Toyota</td>\n",
              "      <td>Camry</td>\n",
              "      <td>2014</td>\n",
              "      <td>Used</td>\n",
              "      <td>24999.5</td>\n",
              "      <td>Automatic</td>\n",
              "      <td>White</td>\n",
              "      <td>Installments Only</td>\n",
              "      <td>58375.0</td>\n",
              "    </tr>\n",
              "    <tr>\n",
              "      <th>3</th>\n",
              "      <td>Ford</td>\n",
              "      <td>Fusion</td>\n",
              "      <td>2010</td>\n",
              "      <td>Used</td>\n",
              "      <td>200000.0</td>\n",
              "      <td>Automatic</td>\n",
              "      <td>White</td>\n",
              "      <td>Cash Only</td>\n",
              "      <td>22425.4</td>\n",
              "    </tr>\n",
              "    <tr>\n",
              "      <th>4</th>\n",
              "      <td>Ford</td>\n",
              "      <td>Taurus</td>\n",
              "      <td>2018</td>\n",
              "      <td>Used</td>\n",
              "      <td>5000.0</td>\n",
              "      <td>Automatic</td>\n",
              "      <td>Grey</td>\n",
              "      <td>Cash Only</td>\n",
              "      <td>22425.4</td>\n",
              "    </tr>\n",
              "  </tbody>\n",
              "</table>\n",
              "</div>"
            ],
            "text/plain": [
              "  car_maker     model  year  ...  color            pay_method    price\n",
              "0    Toyota      Rush  2019  ...  White  Cash or Installments  58375.0\n",
              "1       Kia  Carnival  2006  ...   Grey             Cash Only  10000.0\n",
              "2    Toyota     Camry  2014  ...  White     Installments Only  58375.0\n",
              "3      Ford    Fusion  2010  ...  White             Cash Only  22425.4\n",
              "4      Ford    Taurus  2018  ...   Grey             Cash Only  22425.4\n",
              "\n",
              "[5 rows x 9 columns]"
            ]
          },
          "metadata": {
            "tags": []
          },
          "execution_count": 31
        }
      ]
    },
    {
      "cell_type": "code",
      "metadata": {
        "id": "o6O4EyfcmHTx",
        "colab_type": "code",
        "colab": {}
      },
      "source": [
        "# df.iloc satır ve sütun seçme komutumuzdur. [:, ] virgülden önceki iki nokta tüm satırları seçmemizi sağlar.\n",
        "# Virgülden sonrası sütun seçme operasyonudur. X için son sütün hariç tüm satır ve sütünları seçtik.\n",
        "# y içinde tüm satırları ve son sütunu seçtik. Sonuna .values ekleyerek değerlerimizi numpy-array olarak aldık.\n",
        "# Numpy-array'e dönüştürmemizin nedeni sklearn kütüphanesinin numpy verileri istemesinden dolayı.\n",
        "# İsterseniz farkı görmek için \"df.iloc[:, :-1]\" ve \"df.iloc[:, :-1].values\" değerlerini ayrı ayrı çalıştırın.\n",
        "X = df.iloc[:, :-1].values \n",
        "y = df.iloc[:, -1:].values "
      ],
      "execution_count": 0,
      "outputs": []
    },
    {
      "cell_type": "code",
      "metadata": {
        "id": "xXf1fGTGnJLR",
        "colab_type": "code",
        "outputId": "8307f49b-c183-4960-81ba-211af9e6b5bc",
        "colab": {
          "base_uri": "https://localhost:8080/",
          "height": 50
        }
      },
      "source": [
        "X[:1] #X'in ilk satırına bakalım"
      ],
      "execution_count": 0,
      "outputs": [
        {
          "output_type": "execute_result",
          "data": {
            "text/plain": [
              "array([['Toyota', 'Rush', 2019, 'Used', 14999.5, 'Automatic', 'White',\n",
              "        'Cash or Installments']], dtype=object)"
            ]
          },
          "metadata": {
            "tags": []
          },
          "execution_count": 33
        }
      ]
    },
    {
      "cell_type": "code",
      "metadata": {
        "id": "OfpBOmA7nqVE",
        "colab_type": "code",
        "colab": {}
      },
      "source": [
        "from sklearn.preprocessing import LabelEncoder   #Label encoder kategorik verileri , nümerik verilere çevirir.\n",
        "labelencoder = LabelEncoder()    #LabelEncoder'ı labelencoder değişkenine atadık.\n",
        "#Şimdi her bir kategorik sütunu labelencoder'la encode'licez. Neden mi? Makine yazıları anlayamaz sayıları anlar bu yüzden :)\n",
        "\n",
        "X[:,0] = labelencoder.fit_transform(X[:,0]) #0. sütun araba markamız olan car_marker\n",
        "X[:,1] = labelencoder.fit_transform(X[:,1]) #1. sütun modelimiz \n",
        "X[:,3] = labelencoder.fit_transform(X[:,3]) #3. sütun condition değerimiz\n",
        "X[:,5] = labelencoder.fit_transform(X[:,5]) #5. sütun transmission değerimiz yani araç auto mu manuel mi.\n",
        "X[:,6] = labelencoder.fit_transform(X[:,6]) #6. sütun arabamızın rengi olan color sütunu\n",
        "X[:,7] = labelencoder.fit_transform(X[:,7]) #7. sütun ise ödeme metodu"
      ],
      "execution_count": 0,
      "outputs": []
    },
    {
      "cell_type": "markdown",
      "metadata": {
        "id": "U2ROf1PzysiD",
        "colab_type": "text"
      },
      "source": [
        "Yukarıdaki koda alternatif olarak böylede yapabilirdik\n",
        "```\n",
        "categorical_columns = [0,1,3,5,6,7]\n",
        "\n",
        "def categorical_to_numerical(column_number):\n",
        "  X[:,column_number] = labelencoder.fit_transform(X[:,column_number])   \n",
        "\n",
        "for i in range(len(categorical_columns)):\n",
        "  categorical_to_numerical(categorical_columns[i])\n",
        "```\n",
        "Seçim size kalmış aynı şey :)\n"
      ]
    },
    {
      "cell_type": "code",
      "metadata": {
        "id": "dmDBeGTrnzT0",
        "colab_type": "code",
        "outputId": "11d4137f-1314-47e8-87a9-3dee01c4e60a",
        "colab": {
          "base_uri": "https://localhost:8080/",
          "height": 101
        }
      },
      "source": [
        "#Ödeme metodumuzun ilk 5 satırı sırasıyla : Cash or Installments,Cash Only,Installments Only,Cash Only,Cash Only\t'idi.\n",
        "\n",
        "X[:5,7:]  #Şimdi ödeme metodumuzun ilk 5 satırını neye dönüştürdüğümüzü görelim."
      ],
      "execution_count": 0,
      "outputs": [
        {
          "output_type": "execute_result",
          "data": {
            "text/plain": [
              "array([[1],\n",
              "       [0],\n",
              "       [2],\n",
              "       [0],\n",
              "       [0]], dtype=object)"
            ]
          },
          "metadata": {
            "tags": []
          },
          "execution_count": 35
        }
      ]
    },
    {
      "cell_type": "markdown",
      "metadata": {
        "id": "7JrG6Qn2p_qU",
        "colab_type": "text"
      },
      "source": [
        "Sklearn alfabetik sıralamaya göre numaralandırır. \n",
        "Bu yüzden örnek olarak\n",
        "\n",
        "*   Cash Only : 0\n",
        "*   Cash or Installments : 1\n",
        "*   Installments Only : 2 'dir.\n",
        "\n",
        "Bir sonraki aşamada OneHotEncoding yapıcaz :)\n",
        "\n"
      ]
    }
  ]
}