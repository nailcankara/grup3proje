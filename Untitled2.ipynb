{
  "nbformat": 4,
  "nbformat_minor": 0,
  "metadata": {
    "colab": {
      "name": "Untitled1.ipynb",
      "provenance": []
    },
    "kernelspec": {
      "name": "python3",
      "display_name": "Python 3"
    }
  },
  "cells": [
    {
      "cell_type": "code",
      "metadata": {
        "id": "Pka5NRL6eNGQ",
        "colab_type": "code",
        "colab": {}
      },
      "source": [
        "df.drop(labels=['city','fuel'],axis=1,inplace=True)  #City ve Fuel sütunları tek değişken içerdiği için modele katkısı olmucaktır.\n",
        "                                                     #Bu yüzden bu sütunları siliyoruz. axis=0 row , axis=1 sütun demektir.\n",
        "                                                     #inplace=True verinin üzerinde değişiklik yapar. False olsaydı yaptığımız şey kaydolmucaktı."
      ],
      "execution_count": 0,
      "outputs": []
    },
    {
      "cell_type": "code",
      "metadata": {
        "id": "2zB2mNWRfDJ1",
        "colab_type": "code",
        "colab": {
          "base_uri": "https://localhost:8080/",
          "height": 195
        },
        "outputId": "aabb477c-490c-4c13-80bd-2e86e0ec0cde"
      },
      "source": [
        "df.head()  #yeni halini görelim"
      ],
      "execution_count": 6,
      "outputs": [
        {
          "output_type": "execute_result",
          "data": {
            "text/html": [
              "<div>\n",
              "<style scoped>\n",
              "    .dataframe tbody tr th:only-of-type {\n",
              "        vertical-align: middle;\n",
              "    }\n",
              "\n",
              "    .dataframe tbody tr th {\n",
              "        vertical-align: top;\n",
              "    }\n",
              "\n",
              "    .dataframe thead th {\n",
              "        text-align: right;\n",
              "    }\n",
              "</style>\n",
              "<table border=\"1\" class=\"dataframe\">\n",
              "  <thead>\n",
              "    <tr style=\"text-align: right;\">\n",
              "      <th></th>\n",
              "      <th>car_maker</th>\n",
              "      <th>model</th>\n",
              "      <th>year</th>\n",
              "      <th>condition</th>\n",
              "      <th>kilometers</th>\n",
              "      <th>transmission</th>\n",
              "      <th>color</th>\n",
              "      <th>pay_method</th>\n",
              "      <th>price</th>\n",
              "    </tr>\n",
              "  </thead>\n",
              "  <tbody>\n",
              "    <tr>\n",
              "      <th>0</th>\n",
              "      <td>Toyota</td>\n",
              "      <td>Rush</td>\n",
              "      <td>2019</td>\n",
              "      <td>Used</td>\n",
              "      <td>14999.5</td>\n",
              "      <td>Automatic</td>\n",
              "      <td>White</td>\n",
              "      <td>Cash or Installments</td>\n",
              "      <td>58375.0</td>\n",
              "    </tr>\n",
              "    <tr>\n",
              "      <th>1</th>\n",
              "      <td>Kia</td>\n",
              "      <td>Carnival</td>\n",
              "      <td>2006</td>\n",
              "      <td>Used</td>\n",
              "      <td>0.0</td>\n",
              "      <td>Automatic</td>\n",
              "      <td>Grey</td>\n",
              "      <td>Cash Only</td>\n",
              "      <td>10000.0</td>\n",
              "    </tr>\n",
              "    <tr>\n",
              "      <th>2</th>\n",
              "      <td>Toyota</td>\n",
              "      <td>Camry</td>\n",
              "      <td>2014</td>\n",
              "      <td>Used</td>\n",
              "      <td>24999.5</td>\n",
              "      <td>Automatic</td>\n",
              "      <td>White</td>\n",
              "      <td>Installments Only</td>\n",
              "      <td>58375.0</td>\n",
              "    </tr>\n",
              "    <tr>\n",
              "      <th>3</th>\n",
              "      <td>Ford</td>\n",
              "      <td>Fusion</td>\n",
              "      <td>2010</td>\n",
              "      <td>Used</td>\n",
              "      <td>200000.0</td>\n",
              "      <td>Automatic</td>\n",
              "      <td>White</td>\n",
              "      <td>Cash Only</td>\n",
              "      <td>22425.4</td>\n",
              "    </tr>\n",
              "    <tr>\n",
              "      <th>4</th>\n",
              "      <td>Ford</td>\n",
              "      <td>Taurus</td>\n",
              "      <td>2018</td>\n",
              "      <td>Used</td>\n",
              "      <td>5000.0</td>\n",
              "      <td>Automatic</td>\n",
              "      <td>Grey</td>\n",
              "      <td>Cash Only</td>\n",
              "      <td>22425.4</td>\n",
              "    </tr>\n",
              "  </tbody>\n",
              "</table>\n",
              "</div>"
            ],
            "text/plain": [
              "  car_maker     model  year  ...  color            pay_method    price\n",
              "0    Toyota      Rush  2019  ...  White  Cash or Installments  58375.0\n",
              "1       Kia  Carnival  2006  ...   Grey             Cash Only  10000.0\n",
              "2    Toyota     Camry  2014  ...  White     Installments Only  58375.0\n",
              "3      Ford    Fusion  2010  ...  White             Cash Only  22425.4\n",
              "4      Ford    Taurus  2018  ...   Grey             Cash Only  22425.4\n",
              "\n",
              "[5 rows x 9 columns]"
            ]
          },
          "metadata": {
            "tags": []
          },
          "execution_count": 6
        }
      ]
    },
    {
      "cell_type": "code",
      "metadata": {
        "id": "KDRsXAEifKG9",
        "colab_type": "code",
        "colab": {}
      },
      "source": [
        "#get_dummies metoduyla her birinin içindeki değerleri çıkartıp kendi ismiyle bir değişkene atadık.\n",
        "df_car_maker = pd.get_dummies(df.car_maker)\n",
        "df_model = pd.get_dummies(df.model)\n",
        "df_condition = pd.get_dummies(df.condition)\n",
        "df_transmission = pd.get_dummies(df.transmission)\n",
        "df_color = pd.get_dummies(df.color)\n",
        "df_pay_method = pd.get_dummies(df.pay_method)  "
      ],
      "execution_count": 0,
      "outputs": []
    },
    {
      "cell_type": "code",
      "metadata": {
        "id": "GEf_CvQXfdm9",
        "colab_type": "code",
        "colab": {
          "base_uri": "https://localhost:8080/",
          "height": 402
        },
        "outputId": "b76ab3c6-5779-4303-a97d-958077227060"
      },
      "source": [
        "#Bunlardan bir tanesi neymiş görelim\n",
        "df_pay_method"
      ],
      "execution_count": 9,
      "outputs": [
        {
          "output_type": "execute_result",
          "data": {
            "text/html": [
              "<div>\n",
              "<style scoped>\n",
              "    .dataframe tbody tr th:only-of-type {\n",
              "        vertical-align: middle;\n",
              "    }\n",
              "\n",
              "    .dataframe tbody tr th {\n",
              "        vertical-align: top;\n",
              "    }\n",
              "\n",
              "    .dataframe thead th {\n",
              "        text-align: right;\n",
              "    }\n",
              "</style>\n",
              "<table border=\"1\" class=\"dataframe\">\n",
              "  <thead>\n",
              "    <tr style=\"text-align: right;\">\n",
              "      <th></th>\n",
              "      <th>Cash Only</th>\n",
              "      <th>Cash or Installments</th>\n",
              "      <th>Installments Only</th>\n",
              "    </tr>\n",
              "  </thead>\n",
              "  <tbody>\n",
              "    <tr>\n",
              "      <th>0</th>\n",
              "      <td>0</td>\n",
              "      <td>1</td>\n",
              "      <td>0</td>\n",
              "    </tr>\n",
              "    <tr>\n",
              "      <th>1</th>\n",
              "      <td>1</td>\n",
              "      <td>0</td>\n",
              "      <td>0</td>\n",
              "    </tr>\n",
              "    <tr>\n",
              "      <th>2</th>\n",
              "      <td>0</td>\n",
              "      <td>0</td>\n",
              "      <td>1</td>\n",
              "    </tr>\n",
              "    <tr>\n",
              "      <th>3</th>\n",
              "      <td>1</td>\n",
              "      <td>0</td>\n",
              "      <td>0</td>\n",
              "    </tr>\n",
              "    <tr>\n",
              "      <th>4</th>\n",
              "      <td>1</td>\n",
              "      <td>0</td>\n",
              "      <td>0</td>\n",
              "    </tr>\n",
              "    <tr>\n",
              "      <th>...</th>\n",
              "      <td>...</td>\n",
              "      <td>...</td>\n",
              "      <td>...</td>\n",
              "    </tr>\n",
              "    <tr>\n",
              "      <th>555</th>\n",
              "      <td>1</td>\n",
              "      <td>0</td>\n",
              "      <td>0</td>\n",
              "    </tr>\n",
              "    <tr>\n",
              "      <th>556</th>\n",
              "      <td>1</td>\n",
              "      <td>0</td>\n",
              "      <td>0</td>\n",
              "    </tr>\n",
              "    <tr>\n",
              "      <th>557</th>\n",
              "      <td>1</td>\n",
              "      <td>0</td>\n",
              "      <td>0</td>\n",
              "    </tr>\n",
              "    <tr>\n",
              "      <th>558</th>\n",
              "      <td>1</td>\n",
              "      <td>0</td>\n",
              "      <td>0</td>\n",
              "    </tr>\n",
              "    <tr>\n",
              "      <th>559</th>\n",
              "      <td>1</td>\n",
              "      <td>0</td>\n",
              "      <td>0</td>\n",
              "    </tr>\n",
              "  </tbody>\n",
              "</table>\n",
              "<p>560 rows × 3 columns</p>\n",
              "</div>"
            ],
            "text/plain": [
              "     Cash Only  Cash or Installments  Installments Only\n",
              "0            0                     1                  0\n",
              "1            1                     0                  0\n",
              "2            0                     0                  1\n",
              "3            1                     0                  0\n",
              "4            1                     0                  0\n",
              "..         ...                   ...                ...\n",
              "555          1                     0                  0\n",
              "556          1                     0                  0\n",
              "557          1                     0                  0\n",
              "558          1                     0                  0\n",
              "559          1                     0                  0\n",
              "\n",
              "[560 rows x 3 columns]"
            ]
          },
          "metadata": {
            "tags": []
          },
          "execution_count": 9
        }
      ]
    },
    {
      "cell_type": "code",
      "metadata": {
        "id": "Pyo_sOmefoEt",
        "colab_type": "code",
        "colab": {}
      },
      "source": [
        "#Tüm kategorik sütunları kendilerine has bir değişkende depoladığımıza göre aynı metodla bunlarıda df'mizden silelim.\n",
        "df.drop(labels=['car_maker','model','condition','transmission','color','pay_method'],axis=1,inplace=True)"
      ],
      "execution_count": 0,
      "outputs": []
    },
    {
      "cell_type": "code",
      "metadata": {
        "id": "-vzXE_YKf029",
        "colab_type": "code",
        "colab": {
          "base_uri": "https://localhost:8080/",
          "height": 195
        },
        "outputId": "c277ba9a-8268-4e58-f1b0-824f6ad3313c"
      },
      "source": [
        "df.head()  #son halini görelim"
      ],
      "execution_count": 11,
      "outputs": [
        {
          "output_type": "execute_result",
          "data": {
            "text/html": [
              "<div>\n",
              "<style scoped>\n",
              "    .dataframe tbody tr th:only-of-type {\n",
              "        vertical-align: middle;\n",
              "    }\n",
              "\n",
              "    .dataframe tbody tr th {\n",
              "        vertical-align: top;\n",
              "    }\n",
              "\n",
              "    .dataframe thead th {\n",
              "        text-align: right;\n",
              "    }\n",
              "</style>\n",
              "<table border=\"1\" class=\"dataframe\">\n",
              "  <thead>\n",
              "    <tr style=\"text-align: right;\">\n",
              "      <th></th>\n",
              "      <th>year</th>\n",
              "      <th>kilometers</th>\n",
              "      <th>price</th>\n",
              "    </tr>\n",
              "  </thead>\n",
              "  <tbody>\n",
              "    <tr>\n",
              "      <th>0</th>\n",
              "      <td>2019</td>\n",
              "      <td>14999.5</td>\n",
              "      <td>58375.0</td>\n",
              "    </tr>\n",
              "    <tr>\n",
              "      <th>1</th>\n",
              "      <td>2006</td>\n",
              "      <td>0.0</td>\n",
              "      <td>10000.0</td>\n",
              "    </tr>\n",
              "    <tr>\n",
              "      <th>2</th>\n",
              "      <td>2014</td>\n",
              "      <td>24999.5</td>\n",
              "      <td>58375.0</td>\n",
              "    </tr>\n",
              "    <tr>\n",
              "      <th>3</th>\n",
              "      <td>2010</td>\n",
              "      <td>200000.0</td>\n",
              "      <td>22425.4</td>\n",
              "    </tr>\n",
              "    <tr>\n",
              "      <th>4</th>\n",
              "      <td>2018</td>\n",
              "      <td>5000.0</td>\n",
              "      <td>22425.4</td>\n",
              "    </tr>\n",
              "  </tbody>\n",
              "</table>\n",
              "</div>"
            ],
            "text/plain": [
              "   year  kilometers    price\n",
              "0  2019     14999.5  58375.0\n",
              "1  2006         0.0  10000.0\n",
              "2  2014     24999.5  58375.0\n",
              "3  2010    200000.0  22425.4\n",
              "4  2018      5000.0  22425.4"
            ]
          },
          "metadata": {
            "tags": []
          },
          "execution_count": 11
        }
      ]
    }
  ]
}