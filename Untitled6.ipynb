{
  "nbformat": 4,
  "nbformat_minor": 0,
  "metadata": {
    "colab": {
      "name": "Untitled1.ipynb",
      "provenance": []
    },
    "kernelspec": {
      "name": "python3",
      "display_name": "Python 3"
    }
  },
  "cells": [
    {
      "cell_type": "markdown",
      "metadata": {
        "id": "DH1Y92jqrBPx",
        "colab_type": "text"
      },
      "source": [
        "to_catogorical() metoduyla OneHotEncoding yapmak istediğimiz sütunu seçicez. Böylece 1 sütunumuz içindeki değişken veri sayısı kadar büyücek."
      ]
    },
    {
      "cell_type": "markdown",
      "metadata": {
        "id": "ecXe0uIstJ-S",
        "colab_type": "text"
      },
      "source": [
        "Az önceki örnek için;\n",
        "\n",
        "Cash Only\t||  Cash or Installments || Installments Only\t\n",
        "\n",
        "*  1          ||         0         ||            0\n",
        "*  0          ||         1         ||            0\n",
        "*  0          ||         0         ||            1\n",
        "\n",
        "Olucak. Gölge değişken tuzağından kaçınmamız için 1 sütunu silmemiz gerek. Installment's Only'e ihtiyacımız yok çünkü ilk 2 sütun \"0\" olduğunda otomatikmen Installments Only 1 anlamına gelir. O yüzden sonlarına [:,:-1] ekleyerek oluşturduğumuz OneHotEncodinglerin son sütununu dahil etmicez.\n",
        "\n",
        "\n",
        "\n"
      ]
    },
    {
      "cell_type": "markdown",
      "metadata": {
        "id": "7vjPC43XuaRG",
        "colab_type": "text"
      },
      "source": [
        "Ve son olarak eğer kategorik değişkenimiz sadece 2 eşsiz değerden oluşuyorsa OneHotEncoding yapmamıza gerek yok çünkü sütun değerleri zaten 0 veya 1 dir."
      ]
    },
    {
      "cell_type": "code",
      "metadata": {
        "id": "7So03ApLq4nk",
        "colab_type": "code",
        "colab": {}
      },
      "source": [
        "from keras.utils import to_categorical #Bir derin öğrenme kütüphanesi olan keras'ın nimetlerinden faydalanalım.\n",
        "\n",
        "car_maker = to_categorical(X[:,0])[:,:-1]   #2'den fazla kategori bulundurduğu için OneHotEncoding yaptık.\n",
        "model = to_categorical(X[:,1])[:,:-1]       \n",
        "year = X[:,2:3].astype('float32')           #Year değişkenini 2. sütundan 3'e kadar seçtik 3 dahil değil.\n",
        "condition =  X[:,3:4].astype('float32')     #Sonuna float32 ekleyerek data türümüzü garantileyelim\n",
        "kilometers = X[:,4:5].astype('float32') \n",
        "transmission = X[:,5:6].astype('float32')\n",
        "color = to_categorical(X[:,6])[:,:-1]       \n",
        "pay_method = to_categorical(X[:,7])[:,:-1]  "
      ],
      "execution_count": 0,
      "outputs": []
    },
    {
      "cell_type": "markdown",
      "metadata": {
        "id": "4PbzHXc5vRWd",
        "colab_type": "text"
      },
      "source": [
        "Bakalım ne el ettik ilk 5 satırı hepsinde görünteleyelim"
      ]
    },
    {
      "cell_type": "code",
      "metadata": {
        "id": "S1Wx0AbRvE9B",
        "colab_type": "code",
        "colab": {
          "base_uri": "https://localhost:8080/",
          "height": 689
        },
        "outputId": "eae2f3ce-c078-4952-ab22-7db7df0ff6c7"
      },
      "source": [
        "def ne_elde_ettik(sutun,name):\n",
        "  print(name)\n",
        "  print(sutun[:3] , sutun.shape)\n",
        "  print(\"------------------------------\")\n",
        "\n",
        "xd = [car_maker,model,year,condition,kilometers,transmission,color,pay_method]\n",
        "xdxd = [\"car_maker\",\"model\",\"year\",\"condition\",\"kilometers\",\"transmission\",\"color\",\"pay_method\"]\n",
        "\n",
        "for i in range(len(xd)):\n",
        "  ne_elde_ettik(xd[i],xdxd[i])"
      ],
      "execution_count": 58,
      "outputs": [
        {
          "output_type": "stream",
          "text": [
            "car_maker\n",
            "[[0. 0. 0. 0. 0. 0. 0. 0. 0. 0.]\n",
            " [0. 0. 0. 0. 0. 1. 0. 0. 0. 0.]\n",
            " [0. 0. 0. 0. 0. 0. 0. 0. 0. 0.]] (560, 10)\n",
            "------------------------------\n",
            "model\n",
            "[[0. 0. 0. 0. 0. 0. 0. 0. 0. 0. 0. 0. 0. 0. 0. 0. 0. 0. 0. 0. 1. 0. 0. 0.]\n",
            " [0. 0. 0. 0. 0. 1. 0. 0. 0. 0. 0. 0. 0. 0. 0. 0. 0. 0. 0. 0. 0. 0. 0. 0.]\n",
            " [0. 0. 0. 0. 1. 0. 0. 0. 0. 0. 0. 0. 0. 0. 0. 0. 0. 0. 0. 0. 0. 0. 0. 0.]] (560, 24)\n",
            "------------------------------\n",
            "year\n",
            "[[2019.]\n",
            " [2006.]\n",
            " [2014.]] (560, 1)\n",
            "------------------------------\n",
            "condition\n",
            "[[0.]\n",
            " [0.]\n",
            " [0.]] (560, 1)\n",
            "------------------------------\n",
            "kilometers\n",
            "[[14999.5]\n",
            " [    0. ]\n",
            " [24999.5]] (560, 1)\n",
            "------------------------------\n",
            "transmission\n",
            "[[1.]\n",
            " [1.]\n",
            " [1.]] (560, 1)\n",
            "------------------------------\n",
            "color\n",
            "[[0. 0. 0. 0. 0. 0.]\n",
            " [0. 0. 0. 0. 1. 0.]\n",
            " [0. 0. 0. 0. 0. 0.]] (560, 6)\n",
            "------------------------------\n",
            "pay_method\n",
            "[[0. 1.]\n",
            " [1. 0.]\n",
            " [0. 0.]] (560, 2)\n",
            "------------------------------\n"
          ],
          "name": "stdout"
        }
      ]
    },
    {
      "cell_type": "code",
      "metadata": {
        "id": "OyS1hP8ZxlzF",
        "colab_type": "code",
        "colab": {}
      },
      "source": [
        "#Numpy'ın concantenate metoduyla tüm oluşturmuş olduğumuz(En son sütunu çıkarılmış sütünları) yanyana ekliyoruz. axis=1 sütun olarak birleştir\n",
        "X = np.concatenate((car_maker,model,year,condition,kilometers,transmission,color,pay_method),axis=1) #Yeni X'imiz."
      ],
      "execution_count": 0,
      "outputs": []
    },
    {
      "cell_type": "code",
      "metadata": {
        "id": "HhnCW8qvyHwZ",
        "colab_type": "code",
        "colab": {
          "base_uri": "https://localhost:8080/",
          "height": 134
        },
        "outputId": "e39f4d37-1f79-42c7-e5ed-11cb623ff965"
      },
      "source": [
        "print(X , X.shape)  #560 satır 46 sütunluk bomba gibi verimiz hazır."
      ],
      "execution_count": 64,
      "outputs": [
        {
          "output_type": "stream",
          "text": [
            "[[0. 0. 0. ... 0. 0. 1.]\n",
            " [0. 0. 0. ... 0. 1. 0.]\n",
            " [0. 0. 0. ... 0. 0. 0.]\n",
            " ...\n",
            " [1. 0. 0. ... 0. 1. 0.]\n",
            " [0. 0. 0. ... 0. 1. 0.]\n",
            " [0. 0. 0. ... 0. 1. 0.]] (560, 46)\n"
          ],
          "name": "stdout"
        }
      ]
    },
    {
      "cell_type": "markdown",
      "metadata": {
        "id": "0-NcmQr9yY-j",
        "colab_type": "text"
      },
      "source": [
        "Bir sonraki bölümde makine öğrenmesi kısmına tam olarak başlıyoruz. En zevkli part :)\n"
      ]
    }
  ]
}