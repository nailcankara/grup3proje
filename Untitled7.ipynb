{
  "nbformat": 4,
  "nbformat_minor": 0,
  "metadata": {
    "colab": {
      "name": "Untitled1.ipynb",
      "provenance": []
    },
    "kernelspec": {
      "name": "python3",
      "display_name": "Python 3"
    }
  },
  "cells": [
    {
      "cell_type": "markdown",
      "metadata": {
        "id": "hPvXLcMPzosg",
        "colab_type": "text"
      },
      "source": [
        " X bağımsız değişkenlerimiz ve y bağımlı değişkenimizi train ve test datası olarak 2 ye ayıralım. Test datamız ana verimizin %20 sini içericek. Sonuçların aynı çıkması için random_state=0 olarak kalsın."
      ]
    },
    {
      "cell_type": "code",
      "metadata": {
        "id": "ZbdhTENTzimB",
        "colab_type": "code",
        "colab": {}
      },
      "source": [
        "from sklearn.model_selection import train_test_split   #train,test ayırmak için gerekli kütüphane\n",
        "X_train, X_test, y_train, y_test = train_test_split(X, y, test_size = 0.2, random_state = 0)"
      ],
      "execution_count": 0,
      "outputs": []
    },
    {
      "cell_type": "code",
      "metadata": {
        "id": "YGfQ6xDaz3Jh",
        "colab_type": "code",
        "colab": {
          "base_uri": "https://localhost:8080/",
          "height": 34
        },
        "outputId": "68db0004-e5e2-403e-bab2-da4ba131f399"
      },
      "source": [
        "from sklearn.linear_model import LinearRegression    #Tekli ve Çoklu regresyon için kullandığımız kütüphane\n",
        "regressor = LinearRegression()                       #LinearRegression() metodumuzu regressor değişkenine atadık.\n",
        "regressor.fit(X_train, y_train)                      #.fit metoduyla X_train ve y_train'imizi modelimize uydurduk ve öğrettik."
      ],
      "execution_count": 68,
      "outputs": [
        {
          "output_type": "execute_result",
          "data": {
            "text/plain": [
              "LinearRegression(copy_X=True, fit_intercept=True, n_jobs=None, normalize=False)"
            ]
          },
          "metadata": {
            "tags": []
          },
          "execution_count": 68
        }
      ]
    },
    {
      "cell_type": "markdown",
      "metadata": {
        "id": "3BIGt3rY0U00",
        "colab_type": "text"
      },
      "source": [
        "Evet Bu kadar. 2 satır kod ile makinemiz öğrenmiş oldu. Şimdi gelelim sonuçlara :)"
      ]
    },
    {
      "cell_type": "code",
      "metadata": {
        "id": "pWiuKDJe0bTA",
        "colab_type": "code",
        "colab": {}
      },
      "source": [
        "#.predict metodunun içine X_test'i vererek tahmin etmesini sağladık. Ve tahminlerimizi y_pred'e atadık.\n",
        "y_pred = regressor.predict(X_test)"
      ],
      "execution_count": 0,
      "outputs": []
    },
    {
      "cell_type": "code",
      "metadata": {
        "id": "Zdyu5oH40mVY",
        "colab_type": "code",
        "colab": {
          "base_uri": "https://localhost:8080/",
          "height": 34
        },
        "outputId": "7d4be833-0d42-4e2b-83ed-557e880e4a09"
      },
      "source": [
        "from sklearn.metrics import r2_score  #r2 score'mizi test edelim.\n",
        "r2_score(y_test, y_pred)"
      ],
      "execution_count": 70,
      "outputs": [
        {
          "output_type": "execute_result",
          "data": {
            "text/plain": [
              "0.9998423091391835"
            ]
          },
          "metadata": {
            "tags": []
          },
          "execution_count": 70
        }
      ]
    },
    {
      "cell_type": "markdown",
      "metadata": {
        "id": "9ytORcne01II",
        "colab_type": "text"
      },
      "source": [
        "Mükemmel! Tüm tahminlerimizi ve gerçek değerleri bir dataframe üzerinde görüntüleyelim"
      ]
    },
    {
      "cell_type": "code",
      "metadata": {
        "id": "Lw5_O27r04Vv",
        "colab_type": "code",
        "colab": {
          "base_uri": "https://localhost:8080/",
          "height": 402
        },
        "outputId": "b5bd5631-ac60-4219-e05a-27bbb826ba0d"
      },
      "source": [
        "tahmin = np.concatenate((y_pred,y_test),axis=1)\n",
        "pd.DataFrame(tahmin , columns=[\"Tahminimiz\",\"Gerçek Değerler\"])"
      ],
      "execution_count": 72,
      "outputs": [
        {
          "output_type": "execute_result",
          "data": {
            "text/html": [
              "<div>\n",
              "<style scoped>\n",
              "    .dataframe tbody tr th:only-of-type {\n",
              "        vertical-align: middle;\n",
              "    }\n",
              "\n",
              "    .dataframe tbody tr th {\n",
              "        vertical-align: top;\n",
              "    }\n",
              "\n",
              "    .dataframe thead th {\n",
              "        text-align: right;\n",
              "    }\n",
              "</style>\n",
              "<table border=\"1\" class=\"dataframe\">\n",
              "  <thead>\n",
              "    <tr style=\"text-align: right;\">\n",
              "      <th></th>\n",
              "      <th>Tahminimiz</th>\n",
              "      <th>Gerçek Değerler</th>\n",
              "    </tr>\n",
              "  </thead>\n",
              "  <tbody>\n",
              "    <tr>\n",
              "      <th>0</th>\n",
              "      <td>58379.5</td>\n",
              "      <td>58375.0</td>\n",
              "    </tr>\n",
              "    <tr>\n",
              "      <th>1</th>\n",
              "      <td>41633.5</td>\n",
              "      <td>42000.0</td>\n",
              "    </tr>\n",
              "    <tr>\n",
              "      <th>2</th>\n",
              "      <td>24981.0</td>\n",
              "      <td>25000.0</td>\n",
              "    </tr>\n",
              "    <tr>\n",
              "      <th>3</th>\n",
              "      <td>58678.0</td>\n",
              "      <td>58375.0</td>\n",
              "    </tr>\n",
              "    <tr>\n",
              "      <th>4</th>\n",
              "      <td>1759.5</td>\n",
              "      <td>2114.0</td>\n",
              "    </tr>\n",
              "    <tr>\n",
              "      <th>...</th>\n",
              "      <td>...</td>\n",
              "      <td>...</td>\n",
              "    </tr>\n",
              "    <tr>\n",
              "      <th>107</th>\n",
              "      <td>98358.0</td>\n",
              "      <td>98500.0</td>\n",
              "    </tr>\n",
              "    <tr>\n",
              "      <th>108</th>\n",
              "      <td>21877.0</td>\n",
              "      <td>22000.0</td>\n",
              "    </tr>\n",
              "    <tr>\n",
              "      <th>109</th>\n",
              "      <td>22823.0</td>\n",
              "      <td>23000.0</td>\n",
              "    </tr>\n",
              "    <tr>\n",
              "      <th>110</th>\n",
              "      <td>45077.5</td>\n",
              "      <td>45000.0</td>\n",
              "    </tr>\n",
              "    <tr>\n",
              "      <th>111</th>\n",
              "      <td>58678.0</td>\n",
              "      <td>58375.0</td>\n",
              "    </tr>\n",
              "  </tbody>\n",
              "</table>\n",
              "<p>112 rows × 2 columns</p>\n",
              "</div>"
            ],
            "text/plain": [
              "     Tahminimiz  Gerçek Değerler\n",
              "0       58379.5          58375.0\n",
              "1       41633.5          42000.0\n",
              "2       24981.0          25000.0\n",
              "3       58678.0          58375.0\n",
              "4        1759.5           2114.0\n",
              "..          ...              ...\n",
              "107     98358.0          98500.0\n",
              "108     21877.0          22000.0\n",
              "109     22823.0          23000.0\n",
              "110     45077.5          45000.0\n",
              "111     58678.0          58375.0\n",
              "\n",
              "[112 rows x 2 columns]"
            ]
          },
          "metadata": {
            "tags": []
          },
          "execution_count": 72
        }
      ]
    },
    {
      "cell_type": "markdown",
      "metadata": {
        "id": "kJrWQL3V13W2",
        "colab_type": "text"
      },
      "source": [
        "Fiyat tahmini ve gerçek fiyat değerleri oldukça yakın. Şimdi spesifik bir satıra bakalım"
      ]
    },
    {
      "cell_type": "markdown",
      "metadata": {
        "id": "4WJRQD8b3Ahe",
        "colab_type": "text"
      },
      "source": [
        "X_test'imizde 50. satırımızın\n",
        "\n",
        "*   Markası : Mazda\n",
        "*   Modeli : 3\n",
        "*   Yılı : 2013\n",
        "*   Durumu : 2.el\n",
        "*   Kilometresi : 154.999\n",
        "*   Vites : Otomatik\n",
        "*   Rengi : Yeşil\n",
        "*   Ödeme tipi : Nakit\n",
        "*   Fiyatı : 16000\n",
        "\n",
        "\n"
      ]
    },
    {
      "cell_type": "code",
      "metadata": {
        "id": "aqESL2ua5jPE",
        "colab_type": "code",
        "colab": {
          "base_uri": "https://localhost:8080/",
          "height": 34
        },
        "outputId": "1b7d1dc8-ca2a-4375-a23a-c0f0d2de92e1"
      },
      "source": [
        "y_pred = regressor.predict(X_test[50:51,:])\n",
        "y_pred"
      ],
      "execution_count": 76,
      "outputs": [
        {
          "output_type": "execute_result",
          "data": {
            "text/plain": [
              "array([[16016.5]], dtype=float32)"
            ]
          },
          "metadata": {
            "tags": []
          },
          "execution_count": 76
        }
      ]
    },
    {
      "cell_type": "markdown",
      "metadata": {
        "id": "oq2SdDU15rBS",
        "colab_type": "text"
      },
      "source": [
        "Yapay zekamız fiyatı 16016 olarak tahmin etti. Kodları hep birlikte geliştirme dileğiyle sevgiler :)"
      ]
    }
  ]
}